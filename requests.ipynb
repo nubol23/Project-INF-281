{
 "cells": [
  {
   "cell_type": "code",
   "execution_count": 1,
   "metadata": {},
   "outputs": [],
   "source": [
    "import requests\n",
    "import json"
   ]
  },
  {
   "cell_type": "markdown",
   "metadata": {},
   "source": [
    "# Register User"
   ]
  },
  {
   "cell_type": "code",
   "execution_count": 14,
   "metadata": {},
   "outputs": [
    {
     "name": "stdout",
     "output_type": "stream",
     "text": [
      "Successfully Added\n"
     ]
    }
   ],
   "source": [
    "response = requests.post(url='http://127.0.0.1:8000/register/', \n",
    "                         data={'username': 'admin', \n",
    "                               'email': 'admin@test.com', \n",
    "                               'role': '0', \n",
    "                               'hashed_password': 'admin', \n",
    "                               'description': 'System Administrator'})\n",
    "\n",
    "print(response.text)"
   ]
  },
  {
   "cell_type": "code",
   "execution_count": 18,
   "metadata": {},
   "outputs": [
    {
     "name": "stdout",
     "output_type": "stream",
     "text": [
      "Successfully Added\n"
     ]
    }
   ],
   "source": [
    "response = requests.post(url='http://127.0.0.1:8000/register/', \n",
    "                         data={'username': 'user', \n",
    "                               'email': 'user@test.com', \n",
    "                               'role': '0', \n",
    "                               'hashed_password': 'user', \n",
    "                               'description': 'Test User'})\n",
    "\n",
    "print(response.text)"
   ]
  },
  {
   "cell_type": "markdown",
   "metadata": {},
   "source": [
    "# List Users"
   ]
  },
  {
   "cell_type": "code",
   "execution_count": 6,
   "metadata": {},
   "outputs": [
    {
     "name": "stdout",
     "output_type": "stream",
     "text": [
      "{\"response\": [\"admin\", \"user\"]}\n"
     ]
    }
   ],
   "source": [
    "response = requests.post(url='http://127.0.0.1:8000/user-list/')\n",
    "\n",
    "print(response.text)"
   ]
  },
  {
   "cell_type": "markdown",
   "metadata": {},
   "source": [
    "# Authenticate User"
   ]
  },
  {
   "cell_type": "code",
   "execution_count": 22,
   "metadata": {},
   "outputs": [
    {
     "name": "stdout",
     "output_type": "stream",
     "text": [
      "True\n"
     ]
    }
   ],
   "source": [
    "response = requests.post(url='http://127.0.0.1:8000/authenticate/', \n",
    "                         data={'username': 'user', 'password': 'user'})\n",
    "\n",
    "print(response.text)"
   ]
  },
  {
   "cell_type": "markdown",
   "metadata": {},
   "source": [
    "# List Dishes News Feed *"
   ]
  },
  {
   "cell_type": "code",
   "execution_count": 16,
   "metadata": {
    "scrolled": true
   },
   "outputs": [
    {
     "name": "stdout",
     "output_type": "stream",
     "text": [
      "{'dish_name': 'Ensalada de Cous-Cous al Azafran', 'preparation': 'calentar el agua en una olla con un poco de sal y el azafran en hebras gourmet. dejar hervir durante 10 minutos y sacar del fuego.  en una fuente colocar el cous-cous y agregar el caldo de azafran. tapar con film plastico durante 10 minutos. luego, remover con un tenedor para que el cous cous quede bien graneado.  pelar el pepino y picarlo en cuadraditos. picar los tomates sin cascara ni semillas en cuadraditos. picar las hierbas finamente. reservar.  pelar los camarones, sacando la tripa y la cola y cocinar levemente en agua con sal hasta que se pongan rosados. enfriar en un bol con agua y hielo para detener la coccion. secar los camarones.  cortar las paltas en cuadraditos y mezclar con el cous cous. luego, agregar todas las verduras, hierbas, jugo de limon, aceite de oliva, camarones, sal y mezclar bien. mantener refrigerado durante una hora.  antes de servir agregar sal y pimienta negra molida gourmet a gusto.', 'uploader': 'admin', 'image_path': 'None', 'ingredients': '1/2lt de agua,1 cdta de azafran en hebras gourmet,250gr de cous-cous,1 pepino,2 tomates medianos, 1/2  atado de perejil fresco, 1/2  atado de cilantro fresco,200gr de camarones 36-40,2 paltas,30ml de jugo de limon,50ml de aceite de oliva,pimienta negra molida gourmet,sal'}\n",
      "__________________________________________________\n",
      "{'dish_name': 'Pollo Arvejado', 'preparation': 'lavar los trozos de pollo, secar y sazonar con sal y pimienta blanca molida gourmet.  en una olla profunda calentar el aceite y dorar las presas de pollo por ambos lados. retirar y reservar.  en la misma olla, freir a fuego bajo la cebolla, zanahorias y pimentones; hasta que la cebolla este transparente y las verduras blandas (aprox. 10 minutos). luego agregar la hoja de laurel gourmet y mix de pimientas.  para hacer el caldo de pollo disolver el sobre en agua y revolver.  incorporar las presas de pollo, el caldo de pollo y el vino. corregir la sazon, llevar a ebullicion, reducir el calor y cocinar por 15 a 20 minutos o hasta que el pollo este cocinado.  al final agregar las arvejas. servir caliente acompanado de papas fritas.', 'uploader': 'admin', 'image_path': 'None', 'ingredients': '1 pollo trozado en 6,pimienta blanca molida gourmet\\xa0a gusto,3 cucharadas de aceite vegetal,1 cebolla picada fina,3 zanahorias peladas y partidas en rodajas, 1/2  pimenton verde en tiras, 1/2  pimenton rojo en tiras,1 hoja de laurel gourmet,mix de pimientas gourmet\\xa0a gusto,1 sobre de caldo de pollo gourmet,500 ml de agua,1/4 taza vino blanco,1  1/2  taza de arvejas cocidas,sal de mar gourmet\\xa0a gusto'}\n",
      "__________________________________________________\n",
      "{'dish_name': 'Tortilla de porotos verdes', 'preparation': 'cocinar los porotos verdes al vapor hasta que este al dente.  en una sarten de unos 24 cm (en la misma se hara la tortilla) calentar la mantequilla. agregar la cebolla y cocinar hasta que este blanda y transparente. anadir el oregano entero gourmet, pimienta blanca molida gourmet, sal de mar gourmet y los porotos verdes; cocinar por un par de minutos para integrar todos los ingredientes. pasar la mezcla a un bol.  batir los huevos con un batidor de mano, hasta que esten cremosos y espumosos, luego juntar con la mezcla de porotos verdes.  calentar el aceite en la sarten y una vez que este bien caliente, poner la mezcla de porotos verdes. freir hasta que la tortilla tenga los bordes dorados. con la ayuda de una tapa de olla o un plato, dar vuelta la tortilla y cocinar por el otro lado; seran como 8 a 10 minutos por lados.', 'uploader': 'admin', 'image_path': 'None', 'ingredients': '1 kilo de porotos verdes,1 cucharada de mantequilla, 1/2  taza de cebolla picada fina,1 cucharadita de oregano entero deshidratado gourmet, 1/2  cucharadita de pimienta blanca molida gourmet,1 cucharadita de sal de mar gourmet,5 huevos,2 cucharadas de crema,4 cucharadas de aceite'}\n",
      "__________________________________________________\n",
      "{'dish_name': 'Wok de Verduras Salteadas', 'preparation': 'poner las tiras de pimenton y zanahorias en agua hirviendo, dejar reposar hasta que el agua se enfrie (30 minutos aprox). escurrir y reservar.  en una sarten grande o wok, calentar el aceite vegetal hasta que este bien caliente. agregar los esparragos y la cebolla y saltear por un par de minutos. agregar el ajo, pimenton, zanahorias y champinones, cocinar por un par de minutos.  en un bowl mezclar el jerez, caldo de verduras gourmet, salsa de ostras, vinagre de arroz y aceite de sesamo. agregar la mezcla al wok. saltear todo por 3 minutos o hasta que las verduras esten cocidas (al dente) y  esten cubiertas por la salsa.  servir acompanado con arroz blanco.', 'uploader': 'admin', 'image_path': 'None', 'ingredients': '1 pimento rojo cortado en tiras,1 zanahoria grande en palitos finos,1  1/2  cdas de aceite vegetal,350 gr de esparragos verdes, cocidos al dente y\\xa0 cortados por la mitad en diagonal,1 cebolla roja, cortada en pluma de  1/2  cm,1 diente de ajo picado fino,200g de champinones paris, limpios y partidos por la mitad,200g de champinones ostras, limpios y partidos por la mitad,2 cdas de jerez o vino blanco,1/2 \\xa0pote de caldo de verduras en polvo gourmet,1 cda de salsa de ostras,1 cda de vinagre de arroz,1 cda de aceite de sesamo'}\n",
      "__________________________________________________\n",
      "{'dish_name': 'Budin de Zapallo Italiano', 'preparation': 'cortar los extremos de los zapallitos, partirlos en dos y cocinarlos en agua hirviendo hasta que esten blandos (30 minutos aprox.). sacar del agua, picar toscamente y estilar en un colador para sacarle todo el liquido posible (aplastar con una cuchara).  calentar el horno a 180c. enmantequillar una fuente de vidrio o ceramica que pueda ir al horno, reservar.  remojar el pan en la leche, hasta que este blando.  calentar la mantequilla en una sarten, agregar la cebolla y cocinar hasta que la cebolla este blanda y transparente. agregar el ajo, albahaca deshidratada gourmet y oregano deshidratado gourmet, cocinar por un minuto.  juntar los zapallitos con el pan remojado, mezcla de cebolla y moler la mezcla con procesador o licuadora. agregar los huevos, contenido del sobre de caldo en polvo de verduras gourmet y una taza de queso parmesano, revolver hasta tener una mezcla homogenea.  vaciar la mezcla en la fuente preparada y hornear por 50 minutos o hasta que el budin haya cuajado y la cubierta este dorada.', 'uploader': 'admin', 'image_path': 'None', 'ingredients': '4 zapallitos italianos,1 marraqueta,1 taza de leche,1 cucharada de mantequilla,1 cebolla picada en cubos pequenos,1/2\\xa0diente de ajo picado finito,1/2 cucharadita de albahaca deshidratada gourmet,1/2 cucharadita de oregano deshidratado gourmet,4 huevos,1 sobre de caldo en polvo de verduras gourmet,1 1/2 taza de queso parmesano'}\n"
     ]
    }
   ],
   "source": [
    "response = requests.post(url='http://127.0.0.1:8000/list-feed/', data={'username': 'user'})\n",
    "\n",
    "# print(response.text)\n",
    "response_list = json.loads(response.text)['dish_list']\n",
    "print(response_list[0])\n",
    "print('_'*50)\n",
    "print(response_list[1])\n",
    "print('_'*50)\n",
    "print(response_list[2])\n",
    "print('_'*50)\n",
    "print(response_list[3])\n",
    "print('_'*50)\n",
    "print(response_list[4])"
   ]
  },
  {
   "cell_type": "markdown",
   "metadata": {},
   "source": [
    "# List Dishes from Users *"
   ]
  },
  {
   "cell_type": "code",
   "execution_count": 17,
   "metadata": {},
   "outputs": [
    {
     "name": "stdout",
     "output_type": "stream",
     "text": [
      "{\"dish_list\": [{\"dish_name\": \"Tortilla de porotos verdes\", \"preparation\": \"cocinar los porotos verdes al vapor hasta que este al dente.  en una sarten de unos 24 cm (en la misma se hara la tortilla) calentar la mantequilla. agregar la cebolla y cocinar hasta que este blanda y transparente. anadir el oregano entero gourmet, pimienta blanca molida gourmet, sal de mar gourmet y los porotos verdes; cocinar por un par de minutos para integrar todos los ingredientes. pasar la mezcla a un bol.  batir los huevos con un batidor de mano, hasta que esten cremosos y espumosos, luego juntar con la mezcla de porotos verdes.  calentar el aceite en la sarten y una vez que este bien caliente, poner la mezcla de porotos verdes. freir hasta que la tortilla tenga los bordes dorados. con la ayuda de una tapa de olla o un plato, dar vuelta la tortilla y cocinar por el otro lado; seran como 8 a 10 minutos por lados.\", \"uploader\": \"admin\", \"image_path\": \"None\", \"ingredients\": \"1 kilo de porotos verdes,1 cucharada de mantequilla, 1/2  taza de cebolla picada fina,1 cucharadita de oregano entero deshidratado gourmet, 1/2  cucharadita de pimienta blanca molida gourmet,1 cucharadita de sal de mar gourmet,5 huevos,2 cucharadas de crema,4 cucharadas de aceite\"}]}\n"
     ]
    }
   ],
   "source": [
    "response = requests.get(url='http://127.0.0.1:8000/list-user-dish/')\n",
    "\n",
    "print(response.text)"
   ]
  },
  {
   "cell_type": "markdown",
   "metadata": {},
   "source": [
    "# Show User Information *"
   ]
  },
  {
   "cell_type": "code",
   "execution_count": 15,
   "metadata": {},
   "outputs": [
    {
     "name": "stdout",
     "output_type": "stream",
     "text": [
      "{\"username\": \"admin\", \"description\": \"System Administrator\", \"following\": true, \"dishes\": [{\"dish_name\": \"Tortilla de porotos verdes\", \"preparation\": \"cocinar los porotos verdes al vapor hasta que este al dente.  en una sarten de unos 24 cm (en la misma se hara la tortilla) calentar la mantequilla. agregar la cebolla y cocinar hasta que este blanda y transparente. anadir el oregano entero gourmet, pimienta blanca molida gourmet, sal de mar gourmet y los porotos verdes; cocinar por un par de minutos para integrar todos los ingredientes. pasar la mezcla a un bol.  batir los huevos con un batidor de mano, hasta que esten cremosos y espumosos, luego juntar con la mezcla de porotos verdes.  calentar el aceite en la sarten y una vez que este bien caliente, poner la mezcla de porotos verdes. freir hasta que la tortilla tenga los bordes dorados. con la ayuda de una tapa de olla o un plato, dar vuelta la tortilla y cocinar por el otro lado; seran como 8 a 10 minutos por lados.\", \"uploader\": \"admin\", \"image_path\": \"None\", \"ingredients\": \"1 kilo de porotos verdes,1 cucharada de mantequilla, 1/2  taza de cebolla picada fina,1 cucharadita de oregano entero deshidratado gourmet, 1/2  cucharadita de pimienta blanca molida gourmet,1 cucharadita de sal de mar gourmet,5 huevos,2 cucharadas de crema,4 cucharadas de aceite\"}]}\n"
     ]
    }
   ],
   "source": [
    "response = requests.post(url='http://127.0.0.1:8000/user-information/', \n",
    "                         data={'username': 'admin', \n",
    "                               'my_username': 'user'})\n",
    "\n",
    "print(response.text)"
   ]
  },
  {
   "cell_type": "markdown",
   "metadata": {},
   "source": [
    "# Follow User"
   ]
  },
  {
   "cell_type": "code",
   "execution_count": 84,
   "metadata": {},
   "outputs": [
    {
     "name": "stdout",
     "output_type": "stream",
     "text": [
      "You are now following user\n"
     ]
    }
   ],
   "source": [
    "response = requests.post(url='http://127.0.0.1:8000/follow/', \n",
    "                         data={'follower_username': 'user', 'followed_username': 'admin'})                     \n",
    "\n",
    "print(response.text)"
   ]
  },
  {
   "cell_type": "markdown",
   "metadata": {},
   "source": [
    "# Unfollow User"
   ]
  },
  {
   "cell_type": "code",
   "execution_count": 87,
   "metadata": {},
   "outputs": [
    {
     "name": "stdout",
     "output_type": "stream",
     "text": [
      "Unfollowed user\n"
     ]
    }
   ],
   "source": [
    "response = requests.post(url='http://127.0.0.1:8000/unfollow/', \n",
    "                         data={'follower_username': 'admin', 'followed_username': 'user'})\n",
    "\n",
    "print(response.text)"
   ]
  },
  {
   "cell_type": "markdown",
   "metadata": {},
   "source": [
    "# Like Dish"
   ]
  },
  {
   "cell_type": "code",
   "execution_count": 67,
   "metadata": {},
   "outputs": [
    {
     "name": "stdout",
     "output_type": "stream",
     "text": [
      "Successfully liked\n"
     ]
    }
   ],
   "source": [
    "response = requests.post(url='http://127.0.0.1:8000/like-dish/', \n",
    "                         data={'dish_name': 'Tortilla', \n",
    "                               'username': 'admin', \n",
    "                               'score': '6'})\n",
    "\n",
    "print(response.text)"
   ]
  },
  {
   "cell_type": "markdown",
   "metadata": {},
   "source": [
    "# Dislike Dish"
   ]
  },
  {
   "cell_type": "code",
   "execution_count": 71,
   "metadata": {},
   "outputs": [
    {
     "name": "stdout",
     "output_type": "stream",
     "text": [
      "Successfully disliked\n"
     ]
    }
   ],
   "source": [
    "response = requests.post(url='http://127.0.0.1:8000/dislike-dish/', \n",
    "                         data={'dish_name': 'Charquican', \n",
    "                               'username': 'user'})\n",
    "\n",
    "print(response.text)"
   ]
  },
  {
   "cell_type": "markdown",
   "metadata": {},
   "source": [
    "# Dishes I Like *"
   ]
  },
  {
   "cell_type": "code",
   "execution_count": 19,
   "metadata": {},
   "outputs": [
    {
     "name": "stdout",
     "output_type": "stream",
     "text": [
      "{\"dishes\": []}\n"
     ]
    }
   ],
   "source": [
    "response = requests.post(url='http://127.0.0.1:8000/list-liked-dishes/', \n",
    "                         data={'username': 'admin'})\n",
    "\n",
    "print(response.text)"
   ]
  },
  {
   "cell_type": "markdown",
   "metadata": {},
   "source": [
    "# Dish information and recommendation *"
   ]
  },
  {
   "cell_type": "code",
   "execution_count": 25,
   "metadata": {},
   "outputs": [
    {
     "name": "stdout",
     "output_type": "stream",
     "text": [
      "{\"name\": \"Pollo a la Parrilla con Ensalada a la Chilena\", \"ingredients\": \"1 cucharadita de ralladura de limon,1/4 taza de jugo de limon o naranja,1/4 taza de salsa de soya gourmet,1 cucharadita de mostaza,1/4 taza de aceite,1 cucharada de salsa inglesa gourmet,1 cucharada de azucar,1/2 cucharadita de oregano entero gourmet,1/2 cucharadita de albahaca gourmet,1/2 cucharadita de tomillo en hojas gourmet (o romero deshidratado gourmet),8 presas de pollo,6 tomates,2 cebollas,1 aji verde picado(opcional),1 1/2 cucharada de cilantro o perejil picado,2 cucharadas de aceite,sal,pimienta negra molida gourmet\", \"preparation\": \"preparar el pollo: mezclar la ralladura de limon con el jugo de limon o naranja y la salsa de soya gourmet en un bol grande. agregar la mostaza y mezclar con una cuchara hasta integrar. agregar el resto de los ingredientes (menos el pollo), siempre revolviendo para mezclar bien. agregar el pollo, dar vueltas en la marinada hasta tener todas las presas cubiertas con la marinada. tapar el bol y dejar reposar al menos una hora, ir revolviendo el pollo de vez en cuando. prender la parrilla, poner el pollo e ir dando vuelta para que quede cocido por ambos lados. por mientras preparar la ensalada chilena.  preparar la ensalada: lavar la cebolla y picar en corte pluma. si se quiere disminuir la intensidad de la cebolla, dejarla un rato remojando en agua tibia con sal. pelar los tomates y picarlos en rebanadas. juntarlos con la cebolla y anadir el cilantro o perejil, aceite, aji verde (optativo), pimienta negra molida gourmet y sal a gusto. revolver bien para incorporar todos los ingredientes.  cuando el pollo este cocido y dorado por ambos, retirar de la parrilla y servir acompanado de ensalada chilena.\", \"image_path\": \"media/pollo_a_la_parrilla_con_ensalada_a_la_chilena.png\", \"uploader\": \"admin\", \"total_price\": 0, \"recommended_dishes\": [{\"name\": \"Pollo Arvejado\", \"image_path\": \"media/pollo_arvejado.png\"}, {\"name\": \"Wrap de Pollo al Cardamomo\", \"image_path\": \"media/wrap_de_pollo_al_cardamomo.png\"}, {\"name\": \"Ensalada de Quinoa y Pollo\", \"image_path\": \"media/ensalada_de_quinoa_y_pollo.png\"}]}\n"
     ]
    }
   ],
   "source": [
    "response = requests.post(url='http://127.0.0.1:8000/get-dish-information/', \n",
    "                         data={'query_name': 'Pollo a la Parrilla con Ensalada a la Chilena'})\n",
    "\n",
    "print(response.text)"
   ]
  },
  {
   "cell_type": "markdown",
   "metadata": {},
   "source": [
    "# Filter Dishes by Ingredients"
   ]
  },
  {
   "cell_type": "code",
   "execution_count": 24,
   "metadata": {},
   "outputs": [
    {
     "name": "stdout",
     "output_type": "stream",
     "text": [
      "{\"dishes\": [{\"dish_name\": \"Lentejas\", \"preparation\": \"calentar el aceite en una olla grande, a fuego medio. agregar la cebolla, zanahoria, apio y sal; cocinar hasta que las verduras esten blandas y la cebolla transparente.  agregar el comino molido gourmet, aji de color molido gourmet y pimienta negra molida gourmet. revolver. luego agregar las lentejas, tomates, agua y caldo deshidratado de carne gourmet; revolver hasta integrar.  subir el fuego y dejar hervir. luego, bajar el fuego y cocinar tapado hasta que las lentejas esten blandas (40 min aprox).\", \"uploader\": \"admin\", \"image_path\": \"None\", \"ingredients\": \"\\u00a01 1/2 cdas de aceite,1/2 cebolla picada fina,1/3 taza de zanahoria picada en cubos pequenos,1/3 taza de apio picado en cubos pequenos,1 cdtas de sal, 1/2  cdta de comino molido gourmet, 1/2  cdta de aji de color gourmet,1/2 cdta de pimienta negra molida gourmet,325g de lentejas lavadas y remojadas la noche anterior,2/3 taza de tomates picados,1 \\u00a0lts de agua,2 sachets (16g) de caldo deshidratado de carne gourmet\"}, {\"dish_name\": \"Guiso Zapallo Italiano\", \"preparation\": \"calentar en una olla el aceite, agregar la cebolla y cocinar hasta que este transparente y blanda.  agregar el tomate picado y cocinar revolviendo por 1 minuto.  agregar la carne molida, albahaca, caldo de costilla y cocinar revolviendo hasta que la carne tome color.  anadir los cubos de zapallitos italianos, tapar y cocinar por 15 minutos o hasta que el zapallito este blando; si el guiso estuviera muy seco, agregar un poco de agua.  una vez que los zapallitos esten blandos, agregar los huevos levemente batidos y revolver por un par de minutos.\", \"uploader\": \"admin\", \"image_path\": \"None\", \"ingredients\": \"4 zapallitos italianos, cortados en cubos,1 cucharada de aceite de oliva o vegetal, 1/2  cebolla picada en cubos pequenos,1 tomate pelado y cortado en cubos pequenos,250 gr de carne molida,1 cucharadita de albahaca fresca picada o  1/2  cucharadita de albahaca deshidratada gourmet,1 sobre de caldo de costilla en polvo gourmet,4 huevos, levemente batidos\"}, {\"dish_name\": \"Pescado con Costra de Quinoa\", \"preparation\": \"calentar el horno a 200oc.  para la costra mezclar ambas quinoas con el queso parmesano, pan rallado y ciboulette; mezclar bien. agregar el aceite necesario para mojar la mezcla y se pueda juntar con las manos. reservar.  alinar los filetes de pescado con el condimento para pescado gourmet por ambos lados. poner los filetes de pescado en una fuente de horno o bandeja aceitada. pincelar con mostaza y cubrir con la mezcla de quinoa.  cocinar el pescado en el horno por 20 a 25 minutos o hasta que el pescado este cocido y la costra levemente dorada.\", \"uploader\": \"admin\", \"image_path\": \"None\", \"ingredients\": \"4 filetes de pescados de carne dura (tilapia, salmon, congrio),condimento para pescado gourmet,1 cucharada de mostaza,1/3 taza de quinoa blanca cocida al dente, 1/2  taza de quinoa roja cocida al dente,3 cucharadas de queso parmesano,1  1/2  cucharadas de pan rallado,1 cucharada de ciboulette fresco o  1/2  cucharadita de ciboulette deshidratado gourmet,3 a 4 cucharadas de aceite de oliva\"}, {\"dish_name\": \"Asado al Horno\", \"preparation\": \"Mezcle el aceite con todos los condimentos gourmet y adobe la carne con esta mezcla.  ponga la carne en horno fuerte durante 15 minutos, luego baje el horno a temperatura media y deje cocinar durante aproximadamente 1 hora .  acompane con papas al curry: pele las papas, agregue a cada una de ellas un trocito de mantequilla y condimente con curry gourmet. envuelvalas en papel aluminio y pongalas en el horno junto a la carne.  durante la coccion bane la carne con el jugo de la coccion.  sirva acompanado de pebre.  2 a 3 tomates  cebolla  2 cebollines  1 cucharadita de cilantro fresco picado  1 cucharadita de perejil deshidratado gourmet   1/2 cucharadita de salsa inglesa gourmet   1 cucharadita de salsa de ajo gourmet  2 cucharadas de vino blanco  1 cucharada de aji pebre gourmet.   sal a gusto  pimienta blanca molida gourmet a gusto  1 cucharada de aceite  pique en cuadraditos chicos la cebolla, el tomate, los cebollines y pique finamente el cilantro.  ponga todos los ingredientes en un bol y mezclelos.  deje reposar 10 minutos y sirva.\", \"uploader\": \"admin\", \"image_path\": \"None\", \"ingredients\": \"1.2 kilos de carne de vacuno (lomo, abastero, choclillo),2 cucharaditas de aji de color gourmet ,1 cucharadita de pimienta negra molida gourmet ,1 cucharadita de ajo puro gourmet.,1/2 taza de aceite.,4 papas peladas\"}, {\"dish_name\": \"Charquican\", \"preparation\": \"cortar la carne en cubos de 1 cm (si se usa carne molida, saltar este paso).  en una olla grande, calentar el aceite a fuego medio. agregar la carne y cocinar por 5 minutos. agregar la cebolla y el ajo y cocinar hasta que la cebolla este blanda y transparente.  agregar las papas y zapallo, revolver bien. incorporar el aji de color gourmet, comino molido gourmet y oregano entero gourmet, revolver hasta integrar. agregar el agua y caldo deshidratado de carne gourmet. dejar hervir y luego reducir el fuego y cocinar por 25 minutos o hasta que las verduras esten blandas.  por ultimo, agregar el choclo y los porotos verdes, cocinar por 5 minutos o hasta que esten blandos.  con la ayuda de una cuchara de palo, aplastar levemente las papas y zapallo y servir.\", \"uploader\": \"admin\", \"image_path\": \"None\", \"ingredients\": \"1 kilo de asiento o carne molida,2  1/2  cdas de aceite,1 cebolla picada fina,2 dientes de ajo picados fino,6 papas en cubos de 1,5 cm,400g de zapallo camote en cubos de 1,5 cm,1,5 cdtas de aji de color gourmet, 1/2  cdta de comino molido gourmet,2,5 cdtas de oregano entero gourmet,600ml de agua,10g de caldo deshidratado de carne gourmet,2 tazas de choclo,2 tazas de porotos verdes cortados a lo largo\"}, {\"dish_name\": \"Carne al Jugo\", \"preparation\": \"sacar el exceso de grasa de la carne y cortarla en trozos delgados de aproximadamente 2 cm de grosor.  mientras, calentar un sarten  y dorar la mantequilla.  condimentar la carne por ambos lados con el condimento para carne gourmet y despues con la mostaza.  una vez que la mantequilla este bien dorada, dorar la carne por ambos lados. luego, poner la carne junto con la mantequilla sobrante en una cacerola. agregar las hojas de laurel gourmet.  llenar la cacerola con agua hasta tapar por completo la carne. cocinar a fuego bajo con tapa durante 2 horas y media. la carne esta lista cuando al tocarla se desarma casi sola. una vez cocida la carne, sacarla de la cacerola.  disolver la maicena en un poco de agua fria. echarla al liquido que quedo en la olla y revolver hasta obtener consistencia de una salsa.  servir la carne con abundante salsa y acompanar con papas cocidas.\", \"uploader\": \"admin\", \"image_path\": \"None\", \"ingredients\": \"1kg de tapapecho (vacuno),200gr de mantequilla sin sal,2 cdas de condimento para carne gourmet,2 cdas de mostaza dijon,2 hojas de laurel gourmet,agua necesaria,1 cda de maicena,pimienta negra molida gourmet a gusto,sal a gusto\"}, {\"dish_name\": \"Tataki de Res en Costra de Hierbas\", \"preparation\": \"deshojar el tomillo y picar fino. tomar el filete y cortarlo de manera que quede con una forma rectangular, eliminando los bordes curvos. adobarlo con abundante condimento para carne gourmet y tomillo. reservar por 1 hora en el refrigerador.  deshojar el perejil y el cilantro y poner las hojas en un bowl con agua y hielo. cortar el ciboulette en tiras de aprox. 5 cm de largo y juntar con las hojas de perejil y cilantro.  en una olla juntar el azucar y aceto balsamico. dejar hervir y reducir hasta obtener una salsa espesa. dejar enfriar.  retirar la carne marinada del refrigerador y condimentar por los cuatro lados con sal. calentar un sarten con un poco aceite de oliva hasta punto humo y sellar la carne lo mas rapido posible por las cuatro caras. dejar enfriar en el congelador evitando que la carne se caliente hacia el centro. una vez fria, cortar en laminas de aproximadamente 5 mm de grosor.  retirar las hierbas del agua y secar bien. mezclarlas en un bowl junto con el mix de lechugas y condimentar con aceite de oliva y sal. acompanar las laminas de carne con el mix de hojas verdes. la reduccion de aceto balsamico se puede utilizar para decorar el plato.\", \"uploader\": \"admin\", \"image_path\": \"None\", \"ingredients\": \"1kg de filete de res,condimento para carne gourmet\\u00a0a gusto,5 ramitas de tomillo,5 ramitas de perejil,5 ramitas de cilantro,1 atado de ciboulette,100gr de azucar,1/2lt de aceto balsamico,aceite de oliva,250gr de mix de lechugas,sal a gusto\"}]}\n"
     ]
    }
   ],
   "source": [
    "response = requests.post(url='http://127.0.0.1:8000/filter-dishes/', \n",
    "                         data={'ingredient': 'Carne'})\n",
    "\n",
    "print(response.text)"
   ]
  },
  {
   "cell_type": "markdown",
   "metadata": {},
   "source": [
    "# Media Files Example Path: http://127.0.0.1:8000/media/asado_al_horno.png"
   ]
  },
  {
   "cell_type": "markdown",
   "metadata": {},
   "source": [
    "# Upload Dish"
   ]
  },
  {
   "cell_type": "code",
   "execution_count": 32,
   "metadata": {},
   "outputs": [
    {
     "name": "stdout",
     "output_type": "stream",
     "text": [
      "Correctamente Agregado\n"
     ]
    }
   ],
   "source": [
    "response = requests.post(url='http://127.0.0.1:8000/upload-dish/',\n",
    "                         files={'image': open('/home/nubol23/Downloads/gabo.png', 'rb')},\n",
    "                         data={'name': 'Name1', \n",
    "                               'preparation': 'Preparation1', \n",
    "                               'uploader': 'user', \n",
    "                               'plain_text_ingredients': 'Ingredients1',\n",
    "                               'estimated_price': 23})\n",
    "\n",
    "print(response.text)"
   ]
  },
  {
   "cell_type": "markdown",
   "metadata": {},
   "source": [
    "# Delete Dish"
   ]
  },
  {
   "cell_type": "code",
   "execution_count": 33,
   "metadata": {},
   "outputs": [
    {
     "name": "stdout",
     "output_type": "stream",
     "text": [
      "Eliminado Correctamente\n"
     ]
    }
   ],
   "source": [
    "response = requests.post(url='http://127.0.0.1:8000/remove-dish/',                         \n",
    "                         data={'name': 'Name1'})\n",
    "\n",
    "print(response.text)"
   ]
  }
 ],
 "metadata": {
  "kernelspec": {
   "display_name": "Python (machine_learning)",
   "language": "python",
   "name": "machine_learning"
  },
  "language_info": {
   "codemirror_mode": {
    "name": "ipython",
    "version": 3
   },
   "file_extension": ".py",
   "mimetype": "text/x-python",
   "name": "python",
   "nbconvert_exporter": "python",
   "pygments_lexer": "ipython3",
   "version": "3.7.2"
  }
 },
 "nbformat": 4,
 "nbformat_minor": 2
}
