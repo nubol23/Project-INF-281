{
 "cells": [
  {
   "cell_type": "code",
   "execution_count": 1,
   "metadata": {},
   "outputs": [],
   "source": [
    "import pandas as pd"
   ]
  },
  {
   "cell_type": "code",
   "execution_count": 4,
   "metadata": {},
   "outputs": [],
   "source": [
    "df = pd.read_csv('/home/nubol23/Desktop/ExpoGruposDeEstudio/demo_sw/Data/recetas_limpias.csv', index_col=0)"
   ]
  },
  {
   "cell_type": "code",
   "execution_count": 5,
   "metadata": {},
   "outputs": [
    {
     "data": {
      "text/html": [
       "<div>\n",
       "<style scoped>\n",
       "    .dataframe tbody tr th:only-of-type {\n",
       "        vertical-align: middle;\n",
       "    }\n",
       "\n",
       "    .dataframe tbody tr th {\n",
       "        vertical-align: top;\n",
       "    }\n",
       "\n",
       "    .dataframe thead th {\n",
       "        text-align: right;\n",
       "    }\n",
       "</style>\n",
       "<table border=\"1\" class=\"dataframe\">\n",
       "  <thead>\n",
       "    <tr style=\"text-align: right;\">\n",
       "      <th></th>\n",
       "      <th>nombre</th>\n",
       "      <th>link</th>\n",
       "      <th>ingredientes</th>\n",
       "      <th>preparacion</th>\n",
       "    </tr>\n",
       "    <tr>\n",
       "      <th>Unnamed: 0</th>\n",
       "      <th></th>\n",
       "      <th></th>\n",
       "      <th></th>\n",
       "      <th></th>\n",
       "    </tr>\n",
       "  </thead>\n",
       "  <tbody>\n",
       "    <tr>\n",
       "      <th>0</th>\n",
       "      <td>Asado al Horno</td>\n",
       "      <td>https://www.gourmet.cl/recetas/asado-al-horno/</td>\n",
       "      <td>['1.2 kilos de carne de vacuno (lomo, abastero...</td>\n",
       "      <td>mezcle el aceite con todos los condimentos gou...</td>\n",
       "    </tr>\n",
       "    <tr>\n",
       "      <th>1</th>\n",
       "      <td>Batido de Pina y Frutillas</td>\n",
       "      <td>https://www.gourmet.cl/recetas/batido-de-pina-...</td>\n",
       "      <td>['2 rodajas gruesas de pina', '3 frutillas lav...</td>\n",
       "      <td>poner en la licuadora la pina, frutillas, el y...</td>\n",
       "    </tr>\n",
       "    <tr>\n",
       "      <th>2</th>\n",
       "      <td>Ensalada Veraniega</td>\n",
       "      <td>https://www.gourmet.cl/recetas/ensalada-verani...</td>\n",
       "      <td>['6 tazas de lechugas variadas', '2 tazas de f...</td>\n",
       "      <td>precalentar el horno a 160c. preparar las nuec...</td>\n",
       "    </tr>\n",
       "    <tr>\n",
       "      <th>3</th>\n",
       "      <td>Carpaccio de Verduras</td>\n",
       "      <td>https://www.gourmet.cl/recetas/carpaccio-de-ve...</td>\n",
       "      <td>['2 berenjenas pequenas', '2 zapallitos italia...</td>\n",
       "      <td>cortar los zapallitos y las berenjenas en redo...</td>\n",
       "    </tr>\n",
       "    <tr>\n",
       "      <th>4</th>\n",
       "      <td>Lomo Vetado a la Pimienta con Trilogia de Cham...</td>\n",
       "      <td>https://www.gourmet.cl/recetas/lomo-vetado-a-l...</td>\n",
       "      <td>['800gr de lomo vetado', '200gr de champinones...</td>\n",
       "      <td>limpiar y dividir la carne en 4 pedazos iguale...</td>\n",
       "    </tr>\n",
       "  </tbody>\n",
       "</table>\n",
       "</div>"
      ],
      "text/plain": [
       "                                                       nombre  \\\n",
       "Unnamed: 0                                                      \n",
       "0                                              Asado al Horno   \n",
       "1                                  Batido de Pina y Frutillas   \n",
       "2                                          Ensalada Veraniega   \n",
       "3                                       Carpaccio de Verduras   \n",
       "4           Lomo Vetado a la Pimienta con Trilogia de Cham...   \n",
       "\n",
       "                                                         link  \\\n",
       "Unnamed: 0                                                      \n",
       "0              https://www.gourmet.cl/recetas/asado-al-horno/   \n",
       "1           https://www.gourmet.cl/recetas/batido-de-pina-...   \n",
       "2           https://www.gourmet.cl/recetas/ensalada-verani...   \n",
       "3           https://www.gourmet.cl/recetas/carpaccio-de-ve...   \n",
       "4           https://www.gourmet.cl/recetas/lomo-vetado-a-l...   \n",
       "\n",
       "                                                 ingredientes  \\\n",
       "Unnamed: 0                                                      \n",
       "0           ['1.2 kilos de carne de vacuno (lomo, abastero...   \n",
       "1           ['2 rodajas gruesas de pina', '3 frutillas lav...   \n",
       "2           ['6 tazas de lechugas variadas', '2 tazas de f...   \n",
       "3           ['2 berenjenas pequenas', '2 zapallitos italia...   \n",
       "4           ['800gr de lomo vetado', '200gr de champinones...   \n",
       "\n",
       "                                                  preparacion  \n",
       "Unnamed: 0                                                     \n",
       "0           mezcle el aceite con todos los condimentos gou...  \n",
       "1           poner en la licuadora la pina, frutillas, el y...  \n",
       "2           precalentar el horno a 160c. preparar las nuec...  \n",
       "3           cortar los zapallitos y las berenjenas en redo...  \n",
       "4           limpiar y dividir la carne en 4 pedazos iguale...  "
      ]
     },
     "execution_count": 5,
     "metadata": {},
     "output_type": "execute_result"
    }
   ],
   "source": [
    "df.head()"
   ]
  },
  {
   "cell_type": "code",
   "execution_count": 6,
   "metadata": {},
   "outputs": [],
   "source": [
    "plato = df.iloc[0]"
   ]
  },
  {
   "cell_type": "code",
   "execution_count": 7,
   "metadata": {},
   "outputs": [
    {
     "data": {
      "text/plain": [
       "nombre                                             Asado al Horno\n",
       "link               https://www.gourmet.cl/recetas/asado-al-horno/\n",
       "ingredientes    ['1.2 kilos de carne de vacuno (lomo, abastero...\n",
       "preparacion     mezcle el aceite con todos los condimentos gou...\n",
       "Name: 0, dtype: object"
      ]
     },
     "execution_count": 7,
     "metadata": {},
     "output_type": "execute_result"
    }
   ],
   "source": [
    "plato"
   ]
  },
  {
   "cell_type": "code",
   "execution_count": 8,
   "metadata": {},
   "outputs": [
    {
     "data": {
      "text/plain": [
       "'mezcle el aceite con todos los condimentos gourmet y adobe la carne con esta mezcla.  ponga la carne en horno fuerte durante 15 minutos, luego baje el horno a temperatura media y deje cocinar durante aproximadamente 1 hora .  acompane con papas al curry: pele las papas, agregue a cada una de ellas un trocito de mantequilla y condimente con curry gourmet. envuelvalas en papel aluminio y pongalas en el horno junto a la carne.  durante la coccion bane la carne con el jugo de la coccion.  sirva acompanado de pebre.  2 a 3 tomates  cebolla  2 cebollines  1 cucharadita de cilantro fresco picado  1 cucharadita de perejil deshidratado gourmet   1/2 cucharadita de salsa inglesa gourmet   1 cucharadita de salsa de ajo gourmet  2 cucharadas de vino blanco  1 cucharada de aji pebre gourmet.   sal a gusto  pimienta blanca molida gourmet a gusto  1 cucharada de aceite  pique en cuadraditos chicos la cebolla, el tomate, los cebollines y pique finamente el cilantro.  ponga todos los ingredientes en un bol y mezclelos.  deje reposar 10 minutos y sirva.'"
      ]
     },
     "execution_count": 8,
     "metadata": {},
     "output_type": "execute_result"
    }
   ],
   "source": [
    "plato['preparacion']"
   ]
  },
  {
   "cell_type": "code",
   "execution_count": 10,
   "metadata": {},
   "outputs": [
    {
     "data": {
      "text/plain": [
       "['1.2 kilos de carne de vacuno (lomo, abastero, choclillo)',\n",
       " '2 cucharaditas de aji de color gourmet ',\n",
       " '1 cucharadita de pimienta negra molida gourmet ',\n",
       " '1 cucharadita de ajo puro gourmet.',\n",
       " '1/2 taza de aceite.',\n",
       " '4 papas peladas']"
      ]
     },
     "execution_count": 10,
     "metadata": {},
     "output_type": "execute_result"
    }
   ],
   "source": [
    "eval(plato['ingredientes'])"
   ]
  }
 ],
 "metadata": {
  "kernelspec": {
   "display_name": "Python (machine_learning)",
   "language": "python",
   "name": "machine_learning"
  },
  "language_info": {
   "codemirror_mode": {
    "name": "ipython",
    "version": 3
   },
   "file_extension": ".py",
   "mimetype": "text/x-python",
   "name": "python",
   "nbconvert_exporter": "python",
   "pygments_lexer": "ipython3",
   "version": "3.7.2"
  }
 },
 "nbformat": 4,
 "nbformat_minor": 2
}
