{
 "cells": [
  {
   "cell_type": "code",
   "execution_count": 32,
   "metadata": {},
   "outputs": [],
   "source": [
    "import requests\n",
    "import json"
   ]
  },
  {
   "cell_type": "markdown",
   "metadata": {},
   "source": [
    "# Register User"
   ]
  },
  {
   "cell_type": "code",
   "execution_count": 14,
   "metadata": {},
   "outputs": [
    {
     "name": "stdout",
     "output_type": "stream",
     "text": [
      "Successfully Added\n"
     ]
    }
   ],
   "source": [
    "response = requests.post(url='http://127.0.0.1:8000/register/', \n",
    "                         data={'username': 'admin', \n",
    "                               'email': 'admin@test.com', \n",
    "                               'role': '0', \n",
    "                               'hashed_password': 'admin', \n",
    "                               'description': 'System Administrator'})\n",
    "\n",
    "print(response.text)"
   ]
  },
  {
   "cell_type": "code",
   "execution_count": 18,
   "metadata": {},
   "outputs": [
    {
     "name": "stdout",
     "output_type": "stream",
     "text": [
      "Successfully Added\n"
     ]
    }
   ],
   "source": [
    "response = requests.post(url='http://127.0.0.1:8000/register/', \n",
    "                         data={'username': 'user', \n",
    "                               'email': 'user@test.com', \n",
    "                               'role': '0', \n",
    "                               'hashed_password': 'user', \n",
    "                               'description': 'Test User'})\n",
    "\n",
    "print(response.text)"
   ]
  },
  {
   "cell_type": "markdown",
   "metadata": {},
   "source": [
    "# List Users"
   ]
  },
  {
   "cell_type": "code",
   "execution_count": 43,
   "metadata": {},
   "outputs": [
    {
     "name": "stdout",
     "output_type": "stream",
     "text": [
      "{\"response\": [\"admin\", \"user\"]}\n"
     ]
    }
   ],
   "source": [
    "response = requests.post(url='http://127.0.0.1:8000/user-list/')\n",
    "\n",
    "print(response.text)"
   ]
  },
  {
   "cell_type": "markdown",
   "metadata": {},
   "source": [
    "# Authenticate User"
   ]
  },
  {
   "cell_type": "code",
   "execution_count": 22,
   "metadata": {},
   "outputs": [
    {
     "name": "stdout",
     "output_type": "stream",
     "text": [
      "True\n"
     ]
    }
   ],
   "source": [
    "response = requests.post(url='http://127.0.0.1:8000/authenticate/', \n",
    "                         data={'username': 'user', 'password': 'user'})\n",
    "\n",
    "print(response.text)"
   ]
  },
  {
   "cell_type": "markdown",
   "metadata": {},
   "source": [
    "# List Dishes News Feed"
   ]
  },
  {
   "cell_type": "code",
   "execution_count": 42,
   "metadata": {
    "scrolled": true
   },
   "outputs": [
    {
     "name": "stdout",
     "output_type": "stream",
     "text": [
      "{'dish_name': 'Tortilla de porotos verdes', 'preparation': 'cocinar los porotos verdes al vapor hasta que este al dente.  en una sarten de unos 24 cm (en la misma se hara la tortilla) calentar la mantequilla. agregar la cebolla y cocinar hasta que este blanda y transparente. anadir el oregano entero gourmet, pimienta blanca molida gourmet, sal de mar gourmet y los porotos verdes; cocinar por un par de minutos para integrar todos los ingredientes. pasar la mezcla a un bol.  batir los huevos con un batidor de mano, hasta que esten cremosos y espumosos, luego juntar con la mezcla de porotos verdes.  calentar el aceite en la sarten y una vez que este bien caliente, poner la mezcla de porotos verdes. freir hasta que la tortilla tenga los bordes dorados. con la ayuda de una tapa de olla o un plato, dar vuelta la tortilla y cocinar por el otro lado; seran como 8 a 10 minutos por lados.', 'uploader': 'admin', 'image_path': 'None', 'ingredients': []}\n",
      "__________________________________________________\n",
      "{'dish_name': 'Charquican', 'preparation': 'cortar la carne en cubos de 1 cm (si se usa carne molida, saltar este paso).  en una olla grande, calentar el aceite a fuego medio. agregar la carne y cocinar por 5 minutos. agregar la cebolla y el ajo y cocinar hasta que la cebolla este blanda y transparente.  agregar las papas y zapallo, revolver bien. incorporar el aji de color gourmet, comino molido gourmet y oregano entero gourmet, revolver hasta integrar. agregar el agua y caldo deshidratado de carne gourmet. dejar hervir y luego reducir el fuego y cocinar por 25 minutos o hasta que las verduras esten blandas.  por ultimo, agregar el choclo y los porotos verdes, cocinar por 5 minutos o hasta que esten blandos.  con la ayuda de una cuchara de palo, aplastar levemente las papas y zapallo y servir.', 'uploader': 'admin', 'image_path': 'None', 'ingredients': []}\n",
      "__________________________________________________\n",
      "{'dish_name': 'Pollo a la Parrilla con Ensalada a la Chilena', 'preparation': 'preparar el pollo: mezclar la ralladura de limon con el jugo de limon o naranja y la salsa de soya gourmet en un bol grande. agregar la mostaza y mezclar con una cuchara hasta integrar. agregar el resto de los ingredientes (menos el pollo), siempre revolviendo para mezclar bien. agregar el pollo, dar vueltas en la marinada hasta tener todas las presas cubiertas con la marinada. tapar el bol y dejar reposar al menos una hora, ir revolviendo el pollo de vez en cuando. prender la parrilla, poner el pollo e ir dando vuelta para que quede cocido por ambos lados. por mientras preparar la ensalada chilena.  preparar la ensalada: lavar la cebolla y picar en corte pluma. si se quiere disminuir la intensidad de la cebolla, dejarla un rato remojando en agua tibia con sal. pelar los tomates y picarlos en rebanadas. juntarlos con la cebolla y anadir el cilantro o perejil, aceite, aji verde (optativo), pimienta negra molida gourmet y sal a gusto. revolver bien para incorporar todos los ingredientes.  cuando el pollo este cocido y dorado por ambos, retirar de la parrilla y servir acompanado de ensalada chilena.', 'uploader': 'admin', 'image_path': 'None', 'ingredients': []}\n",
      "__________________________________________________\n",
      "{'dish_name': 'Porotos Granados', 'preparation': 'en una olla grande, calentar el aceite a fuego medio y saltear la cebolla hasta que este blanda y transparente, alrededor de 10 minutos. agregar el aji de color gourmet y cocinar revolviendo hasta integrar. agregar los porotos y cocinar por 5 minutos. agregar los cubos de zapallo, 2,5 tazas de choclo rebanado, cocinar por 5 minutos revolviendo siempre.  agregar el comino molido gourmet, pimienta negra molida gourmet y sal de mar gourmet. luego anadir 1 litro de de agua y revolver para mezclar bien. dejar que hierva la mezcla, bajar el fuego y cocinar semi-tapado, revolviendo ocasionalmente, hasta que los porotos esten blandos (30 a 50 minutos).  para hacer la mazamorra licuar la leche con la albahaca y las 2,5 tazas de choclo que sobraron.  luego agregar la mazamorra a la mezcla y cocinar durante 10 a 15 minutos.  servir caliente, decorado con albahaca fresca.', 'uploader': 'admin', 'image_path': 'None', 'ingredients': []}\n",
      "__________________________________________________\n",
      "{'dish_name': 'Tataki de Res en Costra de Hierbas', 'preparation': 'deshojar el tomillo y picar fino. tomar el filete y cortarlo de manera que quede con una forma rectangular, eliminando los bordes curvos. adobarlo con abundante condimento para carne gourmet y tomillo. reservar por 1 hora en el refrigerador.  deshojar el perejil y el cilantro y poner las hojas en un bowl con agua y hielo. cortar el ciboulette en tiras de aprox. 5 cm de largo y juntar con las hojas de perejil y cilantro.  en una olla juntar el azucar y aceto balsamico. dejar hervir y reducir hasta obtener una salsa espesa. dejar enfriar.  retirar la carne marinada del refrigerador y condimentar por los cuatro lados con sal. calentar un sarten con un poco aceite de oliva hasta punto humo y sellar la carne lo mas rapido posible por las cuatro caras. dejar enfriar en el congelador evitando que la carne se caliente hacia el centro. una vez fria, cortar en laminas de aproximadamente 5 mm de grosor.  retirar las hierbas del agua y secar bien. mezclarlas en un bowl junto con el mix de lechugas y condimentar con aceite de oliva y sal. acompanar las laminas de carne con el mix de hojas verdes. la reduccion de aceto balsamico se puede utilizar para decorar el plato.', 'uploader': 'admin', 'image_path': 'None', 'ingredients': []}\n"
     ]
    }
   ],
   "source": [
    "response = requests.post(url='http://127.0.0.1:8000/list-feed/', data={'username': 'user'})\n",
    "\n",
    "# print(response.text)\n",
    "response_list = json.loads(response.text)['dish_list']\n",
    "print(response_list[0])\n",
    "print('_'*50)\n",
    "print(response_list[1])\n",
    "print('_'*50)\n",
    "print(response_list[2])\n",
    "print('_'*50)\n",
    "print(response_list[3])\n",
    "print('_'*50)\n",
    "print(response_list[4])"
   ]
  },
  {
   "cell_type": "markdown",
   "metadata": {},
   "source": [
    "# List Dishes from Users"
   ]
  },
  {
   "cell_type": "code",
   "execution_count": 72,
   "metadata": {},
   "outputs": [
    {
     "name": "stdout",
     "output_type": "stream",
     "text": [
      "{\"dish_list\": [{\"dish_name\": \"Tortilla de porotos verdes\", \"preparation\": \"cocinar los porotos verdes al vapor hasta que este al dente.  en una sarten de unos 24 cm (en la misma se hara la tortilla) calentar la mantequilla. agregar la cebolla y cocinar hasta que este blanda y transparente. anadir el oregano entero gourmet, pimienta blanca molida gourmet, sal de mar gourmet y los porotos verdes; cocinar por un par de minutos para integrar todos los ingredientes. pasar la mezcla a un bol.  batir los huevos con un batidor de mano, hasta que esten cremosos y espumosos, luego juntar con la mezcla de porotos verdes.  calentar el aceite en la sarten y una vez que este bien caliente, poner la mezcla de porotos verdes. freir hasta que la tortilla tenga los bordes dorados. con la ayuda de una tapa de olla o un plato, dar vuelta la tortilla y cocinar por el otro lado; seran como 8 a 10 minutos por lados.\", \"uploader\": \"admin\", \"image_path\": \"None\", \"ingredients\": []}]}\n"
     ]
    }
   ],
   "source": [
    "response = requests.get(url='http://127.0.0.1:8000/list-user-dish/')\n",
    "\n",
    "print(response.text)"
   ]
  },
  {
   "cell_type": "markdown",
   "metadata": {},
   "source": [
    "# Show User Information"
   ]
  },
  {
   "cell_type": "code",
   "execution_count": 89,
   "metadata": {},
   "outputs": [
    {
     "name": "stdout",
     "output_type": "stream",
     "text": [
      "{\"username\": \"admin\", \"description\": \"System Administrator\", \"following\": true, \"dishes\": [{\"dish_name\": \"Tortilla de porotos verdes\", \"preparation\": \"cocinar los porotos verdes al vapor hasta que este al dente.  en una sarten de unos 24 cm (en la misma se hara la tortilla) calentar la mantequilla. agregar la cebolla y cocinar hasta que este blanda y transparente. anadir el oregano entero gourmet, pimienta blanca molida gourmet, sal de mar gourmet y los porotos verdes; cocinar por un par de minutos para integrar todos los ingredientes. pasar la mezcla a un bol.  batir los huevos con un batidor de mano, hasta que esten cremosos y espumosos, luego juntar con la mezcla de porotos verdes.  calentar el aceite en la sarten y una vez que este bien caliente, poner la mezcla de porotos verdes. freir hasta que la tortilla tenga los bordes dorados. con la ayuda de una tapa de olla o un plato, dar vuelta la tortilla y cocinar por el otro lado; seran como 8 a 10 minutos por lados.\", \"uploader\": \"admin\", \"image_path\": \"None\", \"ingredients\": []}]}\n"
     ]
    }
   ],
   "source": [
    "response = requests.post(url='http://127.0.0.1:8000/user-information/', \n",
    "                         data={'username': 'admin', \n",
    "                               'my_username': 'user'})\n",
    "\n",
    "print(response.text)"
   ]
  },
  {
   "cell_type": "markdown",
   "metadata": {},
   "source": [
    "# Follow User"
   ]
  },
  {
   "cell_type": "code",
   "execution_count": 84,
   "metadata": {},
   "outputs": [
    {
     "name": "stdout",
     "output_type": "stream",
     "text": [
      "You are now following user\n"
     ]
    }
   ],
   "source": [
    "response = requests.post(url='http://127.0.0.1:8000/follow/', \n",
    "                         data={'follower_username': 'user', 'followed_username': 'admin'})                     \n",
    "\n",
    "print(response.text)"
   ]
  },
  {
   "cell_type": "markdown",
   "metadata": {},
   "source": [
    "# Unfollow User"
   ]
  },
  {
   "cell_type": "code",
   "execution_count": 87,
   "metadata": {},
   "outputs": [
    {
     "name": "stdout",
     "output_type": "stream",
     "text": [
      "Unfollowed user\n"
     ]
    }
   ],
   "source": [
    "response = requests.post(url='http://127.0.0.1:8000/unfollow/', \n",
    "                         data={'follower_username': 'admin', 'followed_username': 'user'})\n",
    "\n",
    "print(response.text)"
   ]
  },
  {
   "cell_type": "markdown",
   "metadata": {},
   "source": [
    "# Like Dish"
   ]
  },
  {
   "cell_type": "code",
   "execution_count": 67,
   "metadata": {},
   "outputs": [
    {
     "name": "stdout",
     "output_type": "stream",
     "text": [
      "Successfully liked\n"
     ]
    }
   ],
   "source": [
    "response = requests.post(url='http://127.0.0.1:8000/like-dish/', \n",
    "                         data={'dish_name': 'Tortilla', \n",
    "                               'username': 'admin', \n",
    "                               'score': '6'})\n",
    "\n",
    "print(response.text)"
   ]
  },
  {
   "cell_type": "markdown",
   "metadata": {},
   "source": [
    "# Dislike Dish"
   ]
  },
  {
   "cell_type": "code",
   "execution_count": 71,
   "metadata": {},
   "outputs": [
    {
     "name": "stdout",
     "output_type": "stream",
     "text": [
      "Successfully disliked\n"
     ]
    }
   ],
   "source": [
    "response = requests.post(url='http://127.0.0.1:8000/dislike-dish/', \n",
    "                         data={'dish_name': 'Charquican', \n",
    "                               'username': 'user'})\n",
    "\n",
    "print(response.text)"
   ]
  },
  {
   "cell_type": "markdown",
   "metadata": {},
   "source": [
    "# Dishes I Like"
   ]
  },
  {
   "cell_type": "code",
   "execution_count": 82,
   "metadata": {},
   "outputs": [
    {
     "name": "stdout",
     "output_type": "stream",
     "text": [
      "{\"dishes\": []}\n"
     ]
    }
   ],
   "source": [
    "response = requests.post(url='http://127.0.0.1:8000/list-liked-dishes/', \n",
    "                         data={'username': 'admin'})\n",
    "\n",
    "print(response.text)"
   ]
  }
 ],
 "metadata": {
  "kernelspec": {
   "display_name": "Python (machine_learning)",
   "language": "python",
   "name": "machine_learning"
  },
  "language_info": {
   "codemirror_mode": {
    "name": "ipython",
    "version": 3
   },
   "file_extension": ".py",
   "mimetype": "text/x-python",
   "name": "python",
   "nbconvert_exporter": "python",
   "pygments_lexer": "ipython3",
   "version": "3.7.2"
  }
 },
 "nbformat": 4,
 "nbformat_minor": 2
}
